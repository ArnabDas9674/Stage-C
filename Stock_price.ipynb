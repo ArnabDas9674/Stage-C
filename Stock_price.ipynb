{
  "nbformat": 4,
  "nbformat_minor": 0,
  "metadata": {
    "colab": {
      "provenance": []
    },
    "kernelspec": {
      "name": "python3",
      "display_name": "Python 3"
    },
    "language_info": {
      "name": "python"
    }
  },
  "cells": [
    {
      "cell_type": "code",
      "execution_count": 2,
      "metadata": {
        "id": "ZaWjNkchkIyn",
        "colab": {
          "base_uri": "https://localhost:8080/"
        },
        "outputId": "2b98f05f-a146-4d6e-96a9-cf8aa32ec416"
      },
      "outputs": [
        {
          "output_type": "stream",
          "name": "stdout",
          "text": [
            "191.04\n"
          ]
        }
      ],
      "source": [
        "import requests\n",
        "from bs4 import BeautifulSoup\n",
        "\n",
        "url1 = 'https://finance.yahoo.com/quote/AAPL'                       #Apple Inc\n",
        "r1 = requests.get(url1)\n",
        "soup = BeautifulSoup(r1.text, 'lxml')\n",
        "a = soup.find('div', class_='container svelte-aay0dk').find('span').text\n",
        "print(a)"
      ]
    },
    {
      "cell_type": "code",
      "source": [
        "url2 = 'https://finance.yahoo.com/quote/POWL'                              #Powell Industries\n",
        "r2 = requests.get(url2)\n",
        "soup = BeautifulSoup(r2.text, 'lxml')\n",
        "b = soup.find('div', class_='container svelte-aay0dk').find('span').text\n",
        "print(b)"
      ],
      "metadata": {
        "colab": {
          "base_uri": "https://localhost:8080/"
        },
        "id": "dmJ5ohr2rmFO",
        "outputId": "dd11953b-757a-4a91-ecaf-75bfc0051b2e"
      },
      "execution_count": 3,
      "outputs": [
        {
          "output_type": "stream",
          "name": "stdout",
          "text": [
            "188.13\n"
          ]
        }
      ]
    },
    {
      "cell_type": "code",
      "source": [
        "url3 = 'https://finance.yahoo.com/quote/FSLR'                             #First Solar Inc\n",
        "r3 = requests.get(url3)\n",
        "soup = BeautifulSoup(r3.text, 'lxml')\n",
        "c = soup.find('div', class_='container svelte-aay0dk').find('span').text\n",
        "print(c)"
      ],
      "metadata": {
        "colab": {
          "base_uri": "https://localhost:8080/"
        },
        "id": "42eVK_AXZQXb",
        "outputId": "584cc2e5-08bb-4383-d766-68b847cd3954"
      },
      "execution_count": 4,
      "outputs": [
        {
          "output_type": "stream",
          "name": "stdout",
          "text": [
            "209.51\n"
          ]
        }
      ]
    },
    {
      "cell_type": "code",
      "source": [
        "url4 = 'https://finance.yahoo.com/quote/DG'                                   #Dollar General Corporation\n",
        "r4 = requests.get(url4)\n",
        "soup = BeautifulSoup(r4.text, 'lxml')\n",
        "d = soup.find('div', class_='container svelte-aay0dk').find('span').text\n",
        "print(d)"
      ],
      "metadata": {
        "colab": {
          "base_uri": "https://localhost:8080/"
        },
        "id": "JAqAS1WY1SJ-",
        "outputId": "50e98733-a5c9-4ba3-b777-51d38a9b72cd"
      },
      "execution_count": 5,
      "outputs": [
        {
          "output_type": "stream",
          "name": "stdout",
          "text": [
            "143.12\n"
          ]
        }
      ]
    },
    {
      "cell_type": "code",
      "source": [
        "url5 = 'https://finance.yahoo.com/quote/A'                                   #Agilent Technologies Inc\n",
        "r5 = requests.get(url5)\n",
        "soup = BeautifulSoup(r5.text, 'lxml')\n",
        "e = soup.find('div', class_='container svelte-aay0dk').find('span').text\n",
        "print(e)"
      ],
      "metadata": {
        "colab": {
          "base_uri": "https://localhost:8080/"
        },
        "id": "jcrilW7s2R5L",
        "outputId": "e1a103e7-829e-4c38-abcd-0c226fa95503"
      },
      "execution_count": 6,
      "outputs": [
        {
          "output_type": "stream",
          "name": "stdout",
          "text": [
            "153.62\n"
          ]
        }
      ]
    },
    {
      "cell_type": "code",
      "source": [
        "url6 = 'https://finance.yahoo.com/quote/AMD'                                   #Advanced Micro Devices Inc\n",
        "r6 = requests.get(url6)\n",
        "soup = BeautifulSoup(r6.text, 'lxml')\n",
        "f = soup.find('div', class_='container svelte-aay0dk').find('span').text\n",
        "print(f)"
      ],
      "metadata": {
        "colab": {
          "base_uri": "https://localhost:8080/"
        },
        "id": "oPYyRLHR25qt",
        "outputId": "06ef890d-2edf-466a-f656-f1854262c82f"
      },
      "execution_count": 7,
      "outputs": [
        {
          "output_type": "stream",
          "name": "stdout",
          "text": [
            "164.99\n"
          ]
        }
      ]
    },
    {
      "cell_type": "code",
      "source": [
        "url7 = 'https://finance.yahoo.com/quote/R'                                   #Ryder System Inc\n",
        "r7 = requests.get(url7)\n",
        "soup = BeautifulSoup(r7.text, 'lxml')\n",
        "g = soup.find('div', class_='container svelte-aay0dk').find('span').text\n",
        "print(g)"
      ],
      "metadata": {
        "colab": {
          "base_uri": "https://localhost:8080/"
        },
        "id": "E_VaM2ww3b7n",
        "outputId": "6c86a231-b4ab-4336-9982-fd07e4813e7f"
      },
      "execution_count": 8,
      "outputs": [
        {
          "output_type": "stream",
          "name": "stdout",
          "text": [
            "125.73\n"
          ]
        }
      ]
    },
    {
      "cell_type": "code",
      "source": [
        "import pandas as pd\n",
        "import matplotlib.pyplot as plt\n",
        "import math\n",
        "data = [['Apple Inc', a], ['Powell Industries', b], ['First Solar Inc', c], ['Dollar General Corporation', d], ['Agilent Technologies Inc', e], ['Advanced Micro Devices Inc', f], ['Ryder System Inc', g]]\n",
        "df = pd.DataFrame(data, columns=['Name', 'Price'], index=[1,2,3,4,5,6,7])\n",
        "print(df)"
      ],
      "metadata": {
        "colab": {
          "base_uri": "https://localhost:8080/"
        },
        "id": "CUd0HZTv45Fu",
        "outputId": "7c3824bd-b007-48f5-e86a-4adfdc85cc6d"
      },
      "execution_count": 17,
      "outputs": [
        {
          "output_type": "stream",
          "name": "stdout",
          "text": [
            "                         Name   Price\n",
            "1                   Apple Inc  191.04\n",
            "2           Powell Industries  188.13\n",
            "3             First Solar Inc  209.51\n",
            "4  Dollar General Corporation  143.12\n",
            "5    Agilent Technologies Inc  153.62\n",
            "6  Advanced Micro Devices Inc  164.99\n",
            "7            Ryder System Inc  125.73\n"
          ]
        }
      ]
    },
    {
      "cell_type": "code",
      "source": [
        "df['Price'] = df['Price'].apply(lambda x: float(x.replace(',', '')))\n",
        "df['Price'].mean()"
      ],
      "metadata": {
        "colab": {
          "base_uri": "https://localhost:8080/"
        },
        "id": "RMJ36cImp8Pp",
        "outputId": "9c975aa2-c3ac-4b65-edda-1a94a0ab4770"
      },
      "execution_count": 20,
      "outputs": [
        {
          "output_type": "execute_result",
          "data": {
            "text/plain": [
              "168.01999999999998"
            ]
          },
          "metadata": {},
          "execution_count": 20
        }
      ]
    },
    {
      "cell_type": "code",
      "source": [
        "print(math.sqrt(df['Price'].var()))"
      ],
      "metadata": {
        "colab": {
          "base_uri": "https://localhost:8080/"
        },
        "id": "Z5myh2plqNJt",
        "outputId": "cb6321fd-3981-44bc-b9c8-72a170712504"
      },
      "execution_count": 21,
      "outputs": [
        {
          "output_type": "stream",
          "name": "stdout",
          "text": [
            "29.66689400661956\n"
          ]
        }
      ]
    },
    {
      "cell_type": "code",
      "source": [
        "df['Price'].describe()"
      ],
      "metadata": {
        "colab": {
          "base_uri": "https://localhost:8080/"
        },
        "id": "Rx4Gzoth90BP",
        "outputId": "c1d6d1eb-f3ed-425b-af10-3b0eb79d2065"
      },
      "execution_count": 10,
      "outputs": [
        {
          "output_type": "execute_result",
          "data": {
            "text/plain": [
              "count          7\n",
              "unique         7\n",
              "top       191.04\n",
              "freq           1\n",
              "Name: Price, dtype: object"
            ]
          },
          "metadata": {},
          "execution_count": 10
        }
      ]
    },
    {
      "cell_type": "code",
      "source": [
        "df.to_csv('ArnabProject', sep=',', index=False, encoding='utf-8')"
      ],
      "metadata": {
        "id": "fI4YG_LXpqsy"
      },
      "execution_count": 12,
      "outputs": []
    },
    {
      "cell_type": "code",
      "source": [
        "plt.bar(df['Name'], df['Price'], color='red')\n",
        "plt.xticks(rotation=90)"
      ],
      "metadata": {
        "colab": {
          "base_uri": "https://localhost:8080/",
          "height": 769
        },
        "id": "pJm3oZGqqyMv",
        "outputId": "7d7eeb82-d5fa-490b-dc65-cff53009d646"
      },
      "execution_count": 24,
      "outputs": [
        {
          "output_type": "execute_result",
          "data": {
            "text/plain": [
              "([0, 1, 2, 3, 4, 5, 6],\n",
              " [Text(0, 0, 'Apple Inc'),\n",
              "  Text(1, 0, 'Powell Industries'),\n",
              "  Text(2, 0, 'First Solar Inc'),\n",
              "  Text(3, 0, 'Dollar General Corporation'),\n",
              "  Text(4, 0, 'Agilent Technologies Inc'),\n",
              "  Text(5, 0, 'Advanced Micro Devices Inc'),\n",
              "  Text(6, 0, 'Ryder System Inc')])"
            ]
          },
          "metadata": {},
          "execution_count": 24
        },
        {
          "output_type": "display_data",
          "data": {
            "text/plain": [
              "<Figure size 640x480 with 1 Axes>"
            ],
            "image/png": "[encoded data removed]"
          },
          "metadata": {}
        }
      ]
    }
  ]
}